{
 "cells": [
  {
   "cell_type": "code",
   "execution_count": 1,
   "metadata": {
    "collapsed": false
   },
   "outputs": [
    {
     "data": {
      "text/html": [
       "\n",
       "<style>\n",
       "\n",
       "html {\n",
       "  font-size: 62.5% !important; }\n",
       "body {\n",
       "  font-size: 1.5em !important; /* currently ems cause chrome bug misinterpreting rems on body element */\n",
       "  line-height: 1.6 !important;\n",
       "  font-weight: 400 !important;\n",
       "  font-family: \"Raleway\", \"HelveticaNeue\", \"Helvetica Neue\", Helvetica, Arial, sans-serif !important;\n",
       "  color: #222 !important; }\n",
       "\n",
       "div{ border-radius: 0px !important;  }\n",
       "div.CodeMirror-sizer{ background: rgb(244, 244, 248) !important; }\n",
       "div.input_area{ background: rgb(244, 244, 248) !important; }\n",
       "\n",
       "h1, h2, h3, h4, h5, h6 {\n",
       "  color: #333 !important;\n",
       "  margin-top: 0 !important;\n",
       "  margin-bottom: 2rem !important;\n",
       "  font-weight: 300 !important; }\n",
       "h1 { font-size: 4.0rem !important; line-height: 1.2 !important;  letter-spacing: -.1rem !important;}\n",
       "h2 { font-size: 3.6rem !important; line-height: 1.25 !important; letter-spacing: -.1rem !important; }\n",
       "h3 { font-size: 3.0rem !important; line-height: 1.3 !important;  letter-spacing: -.1rem !important; }\n",
       "h4 { font-size: 2.4rem !important; line-height: 1.35 !important; letter-spacing: -.08rem !important; }\n",
       "h5 { font-size: 1.8rem !important; line-height: 1.5 !important;  letter-spacing: -.05rem !important; }\n",
       "h6 { font-size: 1.5rem !important; line-height: 1.6 !important;  letter-spacing: 0 !important; }\n",
       "\n",
       "p {\n",
       "  margin-top: 0 !important; }\n",
       "  \n",
       "a {\n",
       "  color: #1EAEDB !important; }\n",
       "a:hover {\n",
       "  color: #0FA0CE !important; }\n",
       "\n",
       "</style>"
      ],
      "text/plain": [
       "<IPython.core.display.HTML object>"
      ]
     },
     "execution_count": 1,
     "metadata": {},
     "output_type": "execute_result"
    }
   ],
   "source": [
    "from IPython.core.display import HTML\n",
    "import urllib2\n",
    "HTML(urllib2.urlopen('https://gist.githubusercontent.com/mattlewissf/83989910849fdb4a04a72d431e84053f/raw/cefa015a9065665faccd0219774c7087be7d21a8/skeleton.css').read())"
   ]
  },
  {
   "cell_type": "markdown",
   "metadata": {},
   "source": [
    "### MIMIC Deep Dive -Preprocessing the Data\n",
    "**[Basic structure](#preprocessing)**   \n",
    "**[What is OMOP?](#omop)**  \n",
    "**[The MIMIC Dataset](#mimic_dataset)**  \n",
    "**[Setting up the database](#setting_up_db)** "
   ]
  },
  {
   "cell_type": "markdown",
   "metadata": {},
   "source": [
    "<a id='preprocessing'></a>\n",
    "#### Or: I can't just use the csv?\n",
    "\n",
    "Here we leaned a lot on Jason (our mentor) in terms of devising an intelligent setup for getting data out of the database and into forms that would allow us to better manipulate it to extract features for the model. In order to make the data easy to manipulate later, we want to: \n",
    "\n",
    "1. Query tables out of the database using an ORM. Here we started with SQLAlchemy, a very popular ORM for Python folk. It has a ton of bells and whistles and does way more than we need it to, but it seems like something that will work for our purposes. \n",
    "2. Create a way to represent these tables as python objects in our Mapper file. \n",
    "3. Create a new understanding of a Person object in our Standard module, with attributes from each of the tables accessible from the Person class. This class is created to conform with the [Common Data Model](http://omop.org/CDM), as outlined by the Observational Medical Outcomes Partnership (OMOP). \n",
    "\n",
    "<br></br>\n",
    "\n",
    "Here's the basic concept: "
   ]
  },
  {
   "cell_type": "markdown",
   "metadata": {},
   "source": [
    "![](http://i.imgur.com/ZFtvKtf.png)"
   ]
  },
  {
   "cell_type": "markdown",
   "metadata": {},
   "source": [
    "<a id='omop'></a>\n",
    "#### What is OMOP? \n",
    "\n",
    "OMOP, or the Observational Medical Outcomes Partnership Common Data Model (CDM) version 4, is a standard representation of healthcare experiences and common vocabularies for coding clinical concepts which serves to facilitate analysis across disparate databases. We're using their CDM as it has emerged as a standard among different applications of helathcare data taht need common definitions for visits, patients, and observations where business rules can be applied consistently throughout the database. "
   ]
  },
  {
   "cell_type": "markdown",
   "metadata": {},
   "source": [
    "Here's a snippet of code to show you what mapping this code looked like for SQLAlchemy (check out the [rest of it here](https://github.com/mattlewissf/mimic/blob/master/mimic_package/data_model/mapper.py#L25)). The goal was to pull in the data from the MIMIC database and create a way of passing it around as relational data. Here's what the Admission class looked like for our Reader.py: "
   ]
  },
  {
   "cell_type": "code",
   "execution_count": null,
   "metadata": {
    "collapsed": true
   },
   "outputs": [],
   "source": [
    "class Admission(Base): # \n",
    "    __table__ = table_override(metadata.tables['mimiciii.admissions'],\n",
    "               Base, \n",
    "               {\"row_id\": Column(Integer, primary_key =True), \n",
    "                \"subject_id\": Column(Integer, ForeignKey('mimiciii.patients.subject_id'))}) #\n",
    "    callouts = relationship('Callout') #\n",
    "    chartevents = relationship('Chartevent') #\n",
    "    cptevents = relationship('CPTevent')\n",
    "    datetimeevents = relationship('Datetimeevent')\n",
    "    diagnoses_icd = relationship('Diagnosis_ICD')\n",
    "    drgcodes = relationship('Drgcode')    \n",
    "   # etc..."
   ]
  },
  {
   "cell_type": "markdown",
   "metadata": {},
   "source": [
    "Once this was pulled in, we could our pythonic representations of the admission and patient tables (in the Admission and Patient classes) to create an OMOPPerson object elsewhere: "
   ]
  },
  {
   "cell_type": "code",
   "execution_count": null,
   "metadata": {
    "collapsed": true
   },
   "outputs": [],
   "source": [
    "class OMOPPerson(OMOPStandardData): \n",
    "\n",
    "    def __init__(self, person_id, DOB, DOD, gender, expire_flag, drug_exposures, visit_occurances, \n",
    "                 procedures, observations, conditions, death, index_admission):\n",
    "        self.person_id = person_id\n",
    "        self.DOB = DOB\n",
    "        self.DOD = DOD\n",
    "        self.gender = gender\n",
    "        self.expire_flag = expire_flag\n",
    "        self.drug_exposures = drug_exposures\n",
    "        self.visit_occurances = visit_occurances\n",
    "        self.procedures = procedures\n",
    "        self.observations = observations\n",
    "        self.conditions = conditions\n",
    "        self.death = death \n",
    "        self.index_admission = index_admission"
   ]
  },
  {
   "cell_type": "markdown",
   "metadata": {},
   "source": [
    "After a lot of coding and configuration (and consulting with the SQLALchemy docs), we were able to pull data from the database, transform it into the correct class, and then pass that to an OMOP friendly. Super excellent! \n",
    "\n",
    "<br></br>\n",
    "\n",
    "Except... SQLAlchemy is...  Very slow...  On my aging Macbook, I was finding that creating a single Person from the database was taking on the order of a few minutes. And with more than 46k different patients in the MIMIC database, this was going to be a problem. "
   ]
  },
  {
   "cell_type": "markdown",
   "metadata": {},
   "source": [
    "<a id='oreader'></a>\n",
    "### Moving to OReader\n",
    "\n",
    "more here"
   ]
  }
 ],
 "metadata": {
  "kernelspec": {
   "display_name": "Python 2",
   "language": "python",
   "name": "python2"
  },
  "language_info": {
   "codemirror_mode": {
    "name": "ipython",
    "version": 2
   },
   "file_extension": ".py",
   "mimetype": "text/x-python",
   "name": "python",
   "nbconvert_exporter": "python",
   "pygments_lexer": "ipython2",
   "version": "2.7.12"
  }
 },
 "nbformat": 4,
 "nbformat_minor": 0
}
