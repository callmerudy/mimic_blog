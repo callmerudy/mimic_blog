{
 "cells": [
  {
   "cell_type": "code",
   "execution_count": 1,
   "metadata": {
    "collapsed": false
   },
   "outputs": [
    {
     "data": {
      "text/html": [
       "\n",
       "<style>\n",
       "\n",
       "html {\n",
       "  font-size: 62.5% !important; }\n",
       "body {\n",
       "  font-size: 1.5em !important; /* currently ems cause chrome bug misinterpreting rems on body element */\n",
       "  line-height: 1.6 !important;\n",
       "  font-weight: 400 !important;\n",
       "  font-family: \"Raleway\", \"HelveticaNeue\", \"Helvetica Neue\", Helvetica, Arial, sans-serif !important;\n",
       "  color: #222 !important; }\n",
       "\n",
       "div{ border-radius: 0px !important;  }\n",
       "div.CodeMirror-sizer{ background: rgb(244, 244, 248) !important; }\n",
       "div.input_area{ background: rgb(244, 244, 248) !important; }\n",
       "\n",
       "h1, h2, h3, h4, h5, h6 {\n",
       "  color: #333 !important;\n",
       "  margin-top: 0 !important;\n",
       "  margin-bottom: 2rem !important;\n",
       "  font-weight: 300 !important; }\n",
       "h1 { font-size: 4.0rem !important; line-height: 1.2 !important;  letter-spacing: -.1rem !important;}\n",
       "h2 { font-size: 3.6rem !important; line-height: 1.25 !important; letter-spacing: -.1rem !important; }\n",
       "h3 { font-size: 3.0rem !important; line-height: 1.3 !important;  letter-spacing: -.1rem !important; }\n",
       "h4 { font-size: 2.4rem !important; line-height: 1.35 !important; letter-spacing: -.08rem !important; }\n",
       "h5 { font-size: 1.8rem !important; line-height: 1.5 !important;  letter-spacing: -.05rem !important; }\n",
       "h6 { font-size: 1.5rem !important; line-height: 1.6 !important;  letter-spacing: 0 !important; }\n",
       "\n",
       "p {\n",
       "  margin-top: 0 !important; }\n",
       "  \n",
       "a {\n",
       "  color: #1EAEDB !important; }\n",
       "a:hover {\n",
       "  color: #0FA0CE !important; }\n",
       "\n",
       "</style>"
      ],
      "text/plain": [
       "<IPython.core.display.HTML object>"
      ]
     },
     "execution_count": 1,
     "metadata": {},
     "output_type": "execute_result"
    }
   ],
   "source": [
    "from IPython.core.display import HTML\n",
    "import urllib2\n",
    "HTML(urllib2.urlopen('https://gist.githubusercontent.com/mattlewissf/83989910849fdb4a04a72d431e84053f/raw/cefa015a9065665faccd0219774c7087be7d21a8/skeleton.css').read())"
   ]
  },
  {
   "cell_type": "markdown",
   "metadata": {},
   "source": [
    "### MIMIC Deep Dive - Getting Started with Our Model \n",
    "**[Intro](#intro)**   \n",
    "**[30 Day Readmission](#30_day_readmission)**  \n",
    "**[The MIMIC Dataset](#mimic_dataset)**  \n",
    "**[Setting up the database](#setting_up_db)** "
   ]
  },
  {
   "cell_type": "markdown",
   "metadata": {},
   "source": [
    "<a id='intro'></a>\n",
    "\n",
    "#### Intro: MIMIC and 30 day readmission prediction"
   ]
  },
  {
   "cell_type": "markdown",
   "metadata": {},
   "source": [
    "What follows is a breakdown of what we did to create our 30 day readmission predictive model based on the MIMIC-III dataset. We'll be going somewhat into depth around different decisions, errors, and processes that we went through to create the project. While nothing below is particuarly novel, we're pleased with the results, and the project shows that careful feature selection can lead to decent predictive results using relatively straight-forward applications of machine learning tools and techniques. For a peek at what cutting edge medical ML looks like, check out [Deep Patient](https://www.nature.com/articles/srep26094). \n",
    "\n",
    "<br></br>\n",
    "**Some goals:**\n",
    "* Use the MIMIC-III dataset to build a model to predict whether a discharged patient will be readmited within a thirty day period from their discharge. \n",
    "* Use both demographic as well as diagnostic data to improve our predictive ability\n",
    "* Learn more about the best way to evaluate and apply different classifiers\n",
    "\n",
    "<br></br>\n",
    "\n",
    "We'll be building our model in Python, and working with commonly used machine learning libraries, like [sk_learn](http://scikit-learn.org/stable/) and [matplotlib](https://matplotlib.org/), to describe and fit our data. \n",
    "\n",
    "<br></br>\n",
    "\n",
    "( Interested in the data? [Here’s how you can get access](Interested? Here’s the step on how you can get access to the MIMIC III database: https://mimic.physionet.org/gettingstarted) to the MIMIC III database )"
   ]
  },
  {
   "cell_type": "markdown",
   "metadata": {},
   "source": [
    "<a id='mimic_dataset'></a>\n",
    "### The MIMIC Dataset\n",
    "\n",
    "\n",
    "For this prjoect we'll be using the MIMIC-III dataset, which contains records for 58,000 hospital admissions for 38,645 adults and 7,875 infants, spanning from June 2001 - October 2012. We're using the MIMIC-III dataset for a few reasons: \n",
    "* publicly available for free use, \n",
    "* large and diverse set of patients\n",
    "* high resolution features\n",
    "\n",
    "<br></br>\n",
    "\n",
    "There's a ton of data in the MIMIC-III set that we \n",
    "probably won't be using: data around caregivers and chartevents; lab event and microbiology results; and the massive MIMIC waveform database that 'contains thousands of recordings of multiple physiologic signals (\"waveforms\") and time series of vital signs (\"numerics\") collected from bedside patient monitors in adult and neonatal intensive care units (ICUs).'\n",
    "\n",
    "<br></br>\n",
    "\n",
    "We'll be focusing on getting data on the patient, admission, and diagnosis level. However, as part of the project we'll be rigging up our model to be able to import most everything from MIMIC-III - we just won't end up actually pulling that data in most cases."
   ]
  },
  {
   "cell_type": "markdown",
   "metadata": {},
   "source": [
    "\n",
    "\n",
    "Because of how awesome MIMIC is, there’s a lot of research that uses this dataset. Here’s just a little bit of what people have done with the MIMIC III (and the predecessor, MIMIC II): \n",
    "\n",
    "- [Optimzing patient dosing](https://www.ncbi.nlm.nih.gov/pmc/articles/PMC4157935/) \n",
    "- [Evaluating current severity scoring systems for things like septic shock](https://www.ncbi.nlm.nih.gov/pmc/articles/PMC3609896/) \n",
    "- [Research on ‘context-aware EHRs for heterogeneous medical events in a uniform space’](https://www.ncbi.nlm.nih.gov/pmc/articles/PMC5148810/) "
   ]
  },
  {
   "cell_type": "markdown",
   "metadata": {},
   "source": [
    "But beyond this, MIMIC gives us enough data to play around with different approaches to using machine learning on real healthcare data, and occupies a useful spot on the spectrum between real world / not-prohibitively messy."
   ]
  },
  {
   "cell_type": "markdown",
   "metadata": {},
   "source": [
    "#### Anonymity and the MIMIC dataset\n",
    "\n",
    "Since MIMIC data is from actual patients, work has gone into making sure that data that could potentially identify individual patients (think names, addresses, dates, medical record and other identification numbers) aren't included in the set. To quote a [paper in Nature](https://www.nature.com/articles/sdata201635) that formally announced MIMIC-III:\n",
    "\n",
    "<br></br>\n",
    "\n",
    "\"The deidentification process for structured data required the removal of all eighteen of the identifying data elements listed in HIPAA, including fields such as patient name, telephone number, address, and dates. In particular, dates were shifted into the future by a random offset for each individual patient in a consistent manner to preserve intervals, resulting in stays which occur sometime between the years 2100 and 2200. Time of day, day of the week, and approximate seasonality were conserved during date shifting. **Dates of birth for patients aged over 89 were shifted... these patients appear in the database with ages of over 300 years**.\"\n",
    "\n",
    "<br></br>\n",
    "\n",
    "We'll look into how the highlighted part affects our model later. "
   ]
  },
  {
   "cell_type": "markdown",
   "metadata": {},
   "source": [
    "<a id='30_day_readmission'></a> \n",
    "#### Why work on a 30 day readmission model? \n",
    "\n",
    "- The 30 day readmission model is a pretty common use of administrative level data. There are provisions in the American Care Act (ACA) that both punish and incentivize based on changes to this rate. Since other people having been using this measure on different datasets, we'll be able to compare our results to others. [Here's a good read](http://www.ajmc.com/journals/issue/2016/2016-vol22-n8/opinions-on-the-hospital-readmission-reduction-program-results-of-a-national-survey-of-hospital-leaders) if you want to dive deeper into opinions about the use of 30 day readmission rates. \n",
    "- 30 readmission results are (somewhat) actionable (in the real world), and have been used to inform care and support efforts. \n",
    "\n"
   ]
  },
  {
   "cell_type": "markdown",
   "metadata": {},
   "source": [
    "<a id='setting_up_db'></a>\n",
    "#### Setting up a database from MIMIC"
   ]
  },
  {
   "cell_type": "markdown",
   "metadata": {},
   "source": [
    "Each MIMIC table was downloaded as a flat .csv file, for a total of ~ 46gb. We probably won't use many of the tables, but we'd like to be able to extract anything that we think might help our model later. \n",
    "\n",
    "<br></br>\n",
    "\n",
    "Our next step is to walk through the steps to build a database from these files - luckily, the MIMIC team has an [incredibly helpful repo](https://github.com/MIT-LCP/mimic-code/tree/master/buildmimic/postgres) that walks you through the process with scripts. We went with a Postgres database. After following these steps (and a ton of Googling around the edges), we had our database set up and ready to query. "
   ]
  },
  {
   "cell_type": "markdown",
   "metadata": {},
   "source": [
    "Let's see if it works: \n",
    "\n",
    "```\n",
    "psql (9.5.6)\n",
    "mimic=# SET search_path TO mimiciii;\n",
    "SET\n",
    "mimic=# SELECT COUNT(*) FROM patients;\n",
    " count \n",
    "-------\n",
    " 46520\n",
    "(1 row)\n",
    "\n",
    "mimic=# \\dt\n",
    "               List of relations\n",
    "  Schema  |        Name        | Type  | Owner \n",
    "----------+--------------------+-------+-------\n",
    " mimiciii | admissions         | table | mimic\n",
    " mimiciii | callout            | table | mimic\n",
    " mimiciii | caregivers         | table | mimic\n",
    " mimiciii | chartevents        | table | mimic\n",
    " mimiciii | chartevents_1      | table | mimic\n",
    " mimiciii | chartevents_10     | table | mimic\n",
    " mimiciii | chartevents_3      | table | mimic\n",
    " mimiciii | chartevents_4      | table | mimic\n",
    " mimiciii | transfers          | table | mimic\n",
    " \n",
    " etc...\n",
    " ```\n",
    "\n",
    "Sweet! Similar queries convince us that we've set things up correctly. Now that we have the data, we need to get it into shape so that we can easily extract features from it. \n",
    "\n"
   ]
  },
  {
   "cell_type": "markdown",
   "metadata": {},
   "source": [
    "---"
   ]
  },
  {
   "cell_type": "markdown",
   "metadata": {},
   "source": [
    "#####  **Next  |   [Preprocessing the Data]()**"
   ]
  }
 ],
 "metadata": {
  "kernelspec": {
   "display_name": "Python 2",
   "language": "python",
   "name": "python2"
  },
  "language_info": {
   "codemirror_mode": {
    "name": "ipython",
    "version": 2
   },
   "file_extension": ".py",
   "mimetype": "text/x-python",
   "name": "python",
   "nbconvert_exporter": "python",
   "pygments_lexer": "ipython2",
   "version": "2.7.13"
  }
 },
 "nbformat": 4,
 "nbformat_minor": 0
}
