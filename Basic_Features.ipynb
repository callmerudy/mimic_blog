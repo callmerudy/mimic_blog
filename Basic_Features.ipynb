{
 "cells": [
  {
   "cell_type": "code",
   "execution_count": 1,
   "metadata": {
    "collapsed": false
   },
   "outputs": [
    {
     "data": {
      "text/html": [
       "\n",
       "<style>\n",
       "\n",
       "html {\n",
       "  font-size: 62.5% !important; }\n",
       "body {\n",
       "  font-size: 1.5em !important; /* currently ems cause chrome bug misinterpreting rems on body element */\n",
       "  line-height: 1.6 !important;\n",
       "  font-weight: 400 !important;\n",
       "  font-family: \"Raleway\", \"HelveticaNeue\", \"Helvetica Neue\", Helvetica, Arial, sans-serif !important;\n",
       "  color: #222 !important; }\n",
       "\n",
       "div{ border-radius: 0px !important;  }\n",
       "div.CodeMirror-sizer{ background: rgb(244, 244, 248) !important; }\n",
       "div.input_area{ background: rgb(244, 244, 248) !important; }\n",
       "\n",
       "h1, h2, h3, h4, h5, h6 {\n",
       "  color: #333 !important;\n",
       "  margin-top: 0 !important;\n",
       "  margin-bottom: 2rem !important;\n",
       "  font-weight: 300 !important; }\n",
       "h1 { font-size: 4.0rem !important; line-height: 1.2 !important;  letter-spacing: -.1rem !important;}\n",
       "h2 { font-size: 3.6rem !important; line-height: 1.25 !important; letter-spacing: -.1rem !important; }\n",
       "h3 { font-size: 3.0rem !important; line-height: 1.3 !important;  letter-spacing: -.1rem !important; }\n",
       "h4 { font-size: 2.4rem !important; line-height: 1.35 !important; letter-spacing: -.08rem !important; }\n",
       "h5 { font-size: 1.8rem !important; line-height: 1.5 !important;  letter-spacing: -.05rem !important; }\n",
       "h6 { font-size: 1.5rem !important; line-height: 1.6 !important;  letter-spacing: 0 !important; }\n",
       "\n",
       "p {\n",
       "  margin-top: 0 !important; }\n",
       "  \n",
       "a {\n",
       "  color: #1EAEDB !important; }\n",
       "a:hover {\n",
       "  color: #0FA0CE !important; }\n",
       "\n",
       "</style>"
      ],
      "text/plain": [
       "<IPython.core.display.HTML object>"
      ]
     },
     "execution_count": 1,
     "metadata": {},
     "output_type": "execute_result"
    }
   ],
   "source": [
    "from IPython.core.display import HTML\n",
    "import urllib2\n",
    "HTML(urllib2.urlopen('https://gist.githubusercontent.com/mattlewissf/83989910849fdb4a04a72d431e84053f/raw/cefa015a9065665faccd0219774c7087be7d21a8/skeleton.css').read())"
   ]
  },
  {
   "cell_type": "markdown",
   "metadata": {},
   "source": [
    "#### MIMIC Deep Dive - Extracting Basic Features\n",
    "**[Intro](#intro)**   \n",
    "**[30 Day Readmission](#30_day_readmission)**  \n",
    "**[The MIMIC Dataset](#mimic_dataset)**  \n",
    "**[Setting up the database](#setting_up_db)** "
   ]
  },
  {
   "cell_type": "markdown",
   "metadata": {},
   "source": [
    "There's a ton of patient data in the MIMIC III database: prescriptions, lab events, microbiology results, information about caregivers and providers. One of our initial jobs is to figure out what we think will be useful in helping to improve our predictive model for emergency department readmissions, and what won't. \n",
    "\n",
    "<br></br>\n",
    "\n",
    "Generally, we're going to be working on creating a useful processs for *feature extraction*. Before we go into what we're actually looking to pull out of the MIMIC III dataset, it might be useful to define feature extraction, and how we're doing it (and what we're not doing)."
   ]
  },
  {
   "cell_type": "markdown",
   "metadata": {},
   "source": [
    "We can understand a feature as anything that might be useful for helping to make a prediction, which in our case is: what is the probability that a patient will be re-admitted to the ER in the next 30 days. For our purposes, a feature can be either binary (i.e. the presence or absence of a disease category within a time period), categorical (marital status), or continuous (age, or a previously seen readmission rate to the ER)."
   ]
  },
  {
   "cell_type": "markdown",
   "metadata": {},
   "source": [
    "One of the general goals of feature engineering is reducing the amount of resources needed to generally describe a data set, as analyzing a large and complex dataset will require a lot of computational power. Additionally, feature selection (ideally) will help us avoid overfitting the data and improve our ability to predict new data.  "
   ]
  },
  {
   "cell_type": "markdown",
   "metadata": {},
   "source": [
    "#### A note on 'manual' vs. automatic feature constuction\n",
    "\n",
    "We're intentionally selecting our features out of patient records, and while we might be collecting, transforming, or scoring that data to come up with a feature, we're very much using human intutition (and other research) to steer what we're including in the model. *Automatic feature learning* uses machine learning to disocer features and representations from raw data, and thus reduce or remove the need for manual curation of features. \n",
    "\n",
    "<br></br>\n",
    "\n",
    "We won't (at least initially) be using any feature learning in our model, but it is something being used in state of the art approaches to healthcare data. Check out the super interesting [Deep Patient paper](http://www.nature.com/articles/srep26094) for a cool overview of an implementation of feature learning."
   ]
  },
  {
   "cell_type": "markdown",
   "metadata": {},
   "source": [
    "<a id='index_admission'></a>\n",
    "#### Determining an Index Admission\n",
    "\n",
    "Since we're building a model that wants to accurately predict whether a given admission for a person will result in a readmission, we'll need to figure out a way to select an index admission for each (qualified) person in our system. So what's an index admission? \n",
    "\n",
    "<br></br>\n",
    "\n",
    "[CMS defines an index admission as](https://www.cms.gov/Medicare/Quality-Initiatives-Patient-Assessment-Instruments/MMS/downloads/MMSHospital-WideAll-ConditionReadmissionRate.pdf)  \"any eligible admission to an acute care hospital assessed in the measure for the outcome (readmitted or not within 30 days.\" For our purposes, an index admission is any admission that we choose from an elible patient that we can determine the answer to the question: did this person get readmitted within 30 days of being discharged? We'll be using this index admission as a sort of pin on the patient record, and it will help us to determine the correct value for things like: \n",
    "\n",
    "* Patient age at time of index admission\n",
    "* How long they were admitted \n",
    "* How many admissions they've had in the past year from the admission\n",
    "\n",
    "<br></br>\n",
    "\n",
    "For some patients, there will be only a single admission to work with; for others there may be a few, and we may want to randomly pick one. We can come back to refining this concept, but this is enough to go on for now, and we can pretty easily create one of our first extraction functions: "
   ]
  },
  {
   "cell_type": "code",
   "execution_count": null,
   "metadata": {
    "collapsed": true
   },
   "outputs": [],
   "source": [
    "# within extractors.py \n",
    "def assign_index_record(person): \n",
    "\n",
    "    # look through all of the admissions for a person\n",
    "    sub_records = person.visit_occurances\n",
    "    # select only those who have admissions to work with \n",
    "    if len(sub_records) != 0: \n",
    "        # determine how many admissions there are, and pick a random one\n",
    "        sub_records_shape = np.shape(sub_records)[0]\n",
    "        sub_records_sample = np.random.choice(sub_records_shape)\n",
    "        index_record = sub_records[sub_records_sample]\n",
    "        # we're not going to work with newborns, so filter them out\n",
    "        if index_record.admission_type == 'NEWBORN':\n",
    "            pass\n",
    "        # assign this admission to the person as the index_admission\n",
    "        person.index_admission = index_record"
   ]
  },
  {
   "cell_type": "markdown",
   "metadata": {},
   "source": [
    "<a id='basic_features'></a>\n",
    "#### Extracting some basic features\n",
    "\n",
    "And now that we've got an index admission, we can some of the other features from above: \n",
    "* Age at index admission\n",
    "* Length of index admission (in days) \n",
    "* Person gender\n",
    "\n"
   ]
  },
  {
   "cell_type": "code",
   "execution_count": null,
   "metadata": {
    "collapsed": true
   },
   "outputs": [],
   "source": [
    "def get_person_index_age(person):\n",
    "    try: \n",
    "        index_record_date = person.index_admission.visit_start_date\n",
    "    except AttributeError: \n",
    "        print('person_index_age_error')\n",
    "    person_dob = person.DOB\n",
    "    person_age_at_index = index_record_date - person_dob\n",
    "    person_age_at_index = format((person_age_at_index.total_seconds() / (365.25 * 86400)), '.2f') # convert to years \n",
    "    return float(person_age_at_index)\n",
    "\n",
    "def get_index_admission_length(person):\n",
    "    index_admission = person.index_admission\n",
    "    index_admission_length = index_admission.visit_end_date - index_admission.visit_start_date \n",
    "    index_admission_length = format((index_admission_length.total_seconds() / 86400), '.2f')  # convert to days \n",
    "    if index_admission_length < 0: \n",
    "        index_admission_length = 0\n",
    "    return float(index_admission_length)\n",
    "\n",
    "def get_person_gender(person):\n",
    "    person_gender = person.gender\n",
    "    if person_gender == \"M\":\n",
    "        return 0\n",
    "    if person_gender == \"F\": \n",
    "        return 1"
   ]
  },
  {
   "cell_type": "markdown",
   "metadata": {},
   "source": [
    "And with our index admission set for each person, we can now look to see if a given patient did indeed get readmitted within a 30 day period of being discharged from this index admission. We're using the visit_end_date value from the admission, and using [relativedelta](http://dateutil.readthedocs.io/en/stable/relativedelta.html) to determine the period. "
   ]
  },
  {
   "cell_type": "code",
   "execution_count": null,
   "metadata": {
    "collapsed": true
   },
   "outputs": [],
   "source": [
    "def get_readmit_30(person):\n",
    "\n",
    "    period_end = person.index_admission.visit_end_date + relativedelta(days=30)\n",
    "    admissions_within_30_days = [admission for admission in person.visit_occurances \n",
    "                                 if admission.visit_start_date > person.index_admission.visit_end_date \n",
    "                                 and admission.visit_start_date < period_end]\n",
    "    \n",
    "    if len(admissions_within_30_days) > 0: \n",
    "        return 1\n",
    "    else: \n",
    "        return 0"
   ]
  },
  {
   "cell_type": "markdown",
   "metadata": {},
   "source": [
    "<a id='admission_type'></a>\n",
    "### Extracting admission type\n",
    "\n",
    "Something we also want to be able to feed the model is the type of admission that the index admission represents. Here there are only four possible values for each: elective, urgent, emergency, and newborn. We've already filtered out all cases of newborn, so we're left with just the first three. We'll represent each as its own binary feature."
   ]
  },
  {
   "cell_type": "markdown",
   "metadata": {},
   "source": [
    "\n",
    "We'll be adding features as we go along, but for now let's just focus on this super basic set of features to extract. \n",
    "\n",
    "<br></br>\n",
    "\n",
    "\n",
    "**Current features [v0]:**\n",
    "\n",
    "| \tType\t|\tFeature\t|\n",
    "|\t---\t| \t---\t|\n",
    "|\tAdmission\t|\tperson_index_age\t|\n",
    "|\t\t|\tindex_admission_length\t|\t\n",
    "|\t\t|\tperson_gender\t|\t\t\n",
    "|\t\t|\tadmission_rate\t|\t\n",
    "|       |   Urgent | \n",
    "|       |   Emergency | \n",
    "|       |   Elective  | \n",
    "| y-value      |   readmit_30      | \n",
    "\n"
   ]
  },
  {
   "cell_type": "markdown",
   "metadata": {},
   "source": [
    "<a id='marital_ethnicity'></a>\n",
    "### Bucketing ethnicity and marital status features\n",
    "\n",
    "We're interested in getting some additional demographic information out of the MIMIC data, specifically anything that gives us a clue about marital status and the ethnic background of the individual patient. This information isn't something that is provided with the Patient table, but is often reported on individual Admission examples associated with a person."
   ]
  },
  {
   "cell_type": "markdown",
   "metadata": {},
   "source": [
    "First, let's take a look at what values we're actually going to see in the admissions table for ethnicity and marital status by going into the postgresql interface and running some queries: \n",
    "\n",
    "For **ethnicity**: \n",
    "```\n",
    "SET search_path TO mimiciii;\n",
    "mimic=# SELECT DISTINCT ethnicity FROM admissions; \n",
    "----------------------------------------------------------\n",
    " HISPANIC/LATINO - CUBAN\n",
    " HISPANIC/LATINO - MEXICAN\n",
    " UNKNOWN/NOT SPECIFIED\n",
    " BLACK/HAITIAN\n",
    " BLACK/AFRICAN AMERICAN\n",
    " HISPANIC/LATINO - DOMINICAN\n",
    " CARIBBEAN ISLAND\n",
    " HISPANIC/LATINO - GUATEMALAN\n",
    " HISPANIC/LATINO - CENTRAL AMERICAN (OTHER)\n",
    " HISPANIC OR LATINO\n",
    " MIDDLE EASTERN\n",
    " ASIAN - JAPANESE\n",
    " ASIAN\n",
    " PATIENT DECLINED TO ANSWER\n",
    " AMERICAN INDIAN/ALASKA NATIVE FEDERALLY RECOGNIZED TRIBE\n",
    " ASIAN - VIETNAMESE\n",
    " ASIAN - KOREAN\n",
    " BLACK/CAPE VERDEAN\n",
    " OTHER\n",
    "...\n",
    "(41 rows) \n",
    "```\n",
    "\n",
    "\n"
   ]
  },
  {
   "cell_type": "markdown",
   "metadata": {},
   "source": [
    "And for **marital status**: \n",
    "\n",
    "```\n",
    "mimic=# SELECT DISTINCT marital_status FROM admissions; \n",
    "  marital_status   \n",
    "-------------------\n",
    " \n",
    " SEPARATED\n",
    " MARRIED\n",
    " DIVORCED\n",
    " UNKNOWN (DEFAULT)\n",
    " SINGLE\n",
    " WIDOWED\n",
    " LIFE PARTNER\n",
    "(8 rows)\n",
    "```"
   ]
  },
  {
   "cell_type": "markdown",
   "metadata": {},
   "source": [
    "Great! However, one thing that we notice is that there is a lot of spread in the values for ethnicity, and some patients have multiple values associated with ethnicity in the records. One approach we've seen in other papers ([such as Sushmita](https://www.aaai.org/ocs/index.php/WS/AAAIW16/paper/view/12669/12402))  was to generalize this data into fewer buckets, and we'll take that approach here too. We'll end up with the following ethnicity buckets: \n",
    "\n",
    "- 'race_other'  \n",
    "- 'white'  \n",
    "- 'black'   \n",
    "- 'latino'  \n",
    "- 'asian'  \n",
    "- 'multi_racial'   \n",
    "- 'middle_eastern'  \n",
    "- 'pacific_islander'   \n",
    "- 'american_indian'  \n",
    "\n",
    "<br></br>\n",
    "\n",
    "To do this, we'll want to manually create a mapping dictionary (see the code here) for our 41 ethnicity values so we can match each separate record with a more general bucket (i.e. 'White - Russian' --> 'White')."
   ]
  },
  {
   "cell_type": "markdown",
   "metadata": {},
   "source": [
    "We'll also want to do something similar for marital status, so we'll end up collapsing a few values to get:\n",
    "- 'unknown'  \n",
    "- 'single'  \n",
    "- 'cohab'   \n",
    "- 'separated' "
   ]
  },
  {
   "cell_type": "markdown",
   "metadata": {},
   "source": [
    "Now that we've got these values, we can treat each of these items in the ethnicity / marital status buckets as binary features, and with each person represented as either having (1) or not having (0) that feature. \n",
    "\n",
    "<br></br> \n",
    "\n",
    "**Current Features [v1]:** \n",
    "\n",
    "| \tType\t|\tFeature\t| \n",
    "|\t---\t| \t---\t|\t----\t| \t---\t| \n",
    "|\tAdmission                   \t|\tperson_id\t|\n",
    "|\t\t|\tperson_index_age\t|\t\n",
    "|\t\t|\tindex_admission_length\t|\t\n",
    "|\t\t|\tperson_gender\t|\t\n",
    "|\t\t|\tadmission_rate\t|\n",
    "|\t\t|\tURGENT\t|\t\n",
    "|\t\t|\tELECTIVE\t|\t\n",
    "|\t\t|\tEMERGENCY\t|\t \n",
    "|\tEthnicity\t|\trace_other\t|\t\n",
    "|\t\t|\twhite\t|\n",
    "|\t\t|\tblack\t|\t\n",
    "|\t\t|\tlatino\t|\n",
    "|\t\t|\tasian\t|\t\n",
    "|\t\t|\tmulti_racial\t|\n",
    "|\t\t|\tmiddle_eastern\t|\t\n",
    "|\t\t|\tpacific_islander\t|\t\n",
    "|\t\t|\tamerican_indian\t|\t\n",
    "|\t\t|\tunknown\t|\t\n",
    "|\tMarital Status\t|\tsingle\t|\t\n",
    "|\t\t|\tcohab\t|\t\n",
    "|\t\t|\tseparated\t|\t\t"
   ]
  },
  {
   "cell_type": "markdown",
   "metadata": {},
   "source": [
    "#####  **Next  |   [Constructing Features from Diagnostic Codes]()**"
   ]
  }
 ],
 "metadata": {
  "kernelspec": {
   "display_name": "Python 2",
   "language": "python",
   "name": "python2"
  },
  "language_info": {
   "codemirror_mode": {
    "name": "ipython",
    "version": 2
   },
   "file_extension": ".py",
   "mimetype": "text/x-python",
   "name": "python",
   "nbconvert_exporter": "python",
   "pygments_lexer": "ipython2",
   "version": "2.7.12"
  }
 },
 "nbformat": 4,
 "nbformat_minor": 0
}
