{
 "cells": [
  {
   "cell_type": "code",
   "execution_count": 1,
   "metadata": {
    "collapsed": false
   },
   "outputs": [
    {
     "data": {
      "text/html": [
       "\n",
       "<style>\n",
       "\n",
       "html {\n",
       "  font-size: 62.5% !important; }\n",
       "body {\n",
       "  font-size: 1.5em !important; /* currently ems cause chrome bug misinterpreting rems on body element */\n",
       "  line-height: 1.6 !important;\n",
       "  font-weight: 400 !important;\n",
       "  font-family: \"Raleway\", \"HelveticaNeue\", \"Helvetica Neue\", Helvetica, Arial, sans-serif !important;\n",
       "  color: #222 !important; }\n",
       "\n",
       "div{ border-radius: 0px !important;  }\n",
       "div.CodeMirror-sizer{ background: rgb(244, 244, 248) !important; }\n",
       "div.input_area{ background: rgb(244, 244, 248) !important; }\n",
       "\n",
       "h1, h2, h3, h4, h5, h6 {\n",
       "  color: #333 !important;\n",
       "  margin-top: 0 !important;\n",
       "  margin-bottom: 2rem !important;\n",
       "  font-weight: 300 !important; }\n",
       "h1 { font-size: 4.0rem !important; line-height: 1.2 !important;  letter-spacing: -.1rem !important;}\n",
       "h2 { font-size: 3.6rem !important; line-height: 1.25 !important; letter-spacing: -.1rem !important; }\n",
       "h3 { font-size: 3.0rem !important; line-height: 1.3 !important;  letter-spacing: -.1rem !important; }\n",
       "h4 { font-size: 2.4rem !important; line-height: 1.35 !important; letter-spacing: -.08rem !important; }\n",
       "h5 { font-size: 1.8rem !important; line-height: 1.5 !important;  letter-spacing: -.05rem !important; }\n",
       "h6 { font-size: 1.5rem !important; line-height: 1.6 !important;  letter-spacing: 0 !important; }\n",
       "\n",
       "p {\n",
       "  margin-top: 0 !important; }\n",
       "  \n",
       "a {\n",
       "  color: #1EAEDB !important; }\n",
       "a:hover {\n",
       "  color: #0FA0CE !important; }\n",
       "\n",
       "</style>"
      ],
      "text/plain": [
       "<IPython.core.display.HTML object>"
      ]
     },
     "execution_count": 1,
     "metadata": {},
     "output_type": "execute_result"
    }
   ],
   "source": [
    "from IPython.core.display import HTML\n",
    "import urllib2\n",
    "HTML(urllib2.urlopen('https://gist.githubusercontent.com/mattlewissf/83989910849fdb4a04a72d431e84053f/raw/cefa015a9065665faccd0219774c7087be7d21a8/skeleton.css').read())"
   ]
  },
  {
   "cell_type": "markdown",
   "metadata": {},
   "source": [
    "#### MIMIC Deep Dive - Creating Features from Diagnosis Codes\n",
    "**[Intro](#intro)**   \n",
    "**[30 Day Readmission](#30_day_readmission)**  \n",
    "**[The MIMIC Dataset](#mimic_dataset)**  \n",
    "**[Setting up the database](#setting_up_db)** "
   ]
  },
  {
   "cell_type": "markdown",
   "metadata": {},
   "source": [
    "<a id='dx_codes'></a>\n",
    "If we frame features as 'something that might be useful for prediction, based off of the data', we'll want to come up with useful ways to reframe the data that we already have. In the case of the MIMIC data set, we know a lot about individual patients: hospital admissions, prescriptions, diagnosis, and personal demographics. But one of the questions that we are trying to include into the model is roughly: how sick is this patient?\n",
    "\n",
    "<br></br>\n",
    "\n",
    "There's something like 14,000 individual ICD9CM codes, so individually representing each diagnosis as a binary feature doesn't super plausible for our model. Instead, we're going to look into two different ways we can use these diagnosis codes to represent an understanding of the health of a patient: **comorbidity indexes** and **clustering existing conditions**. "
   ]
  },
  {
   "cell_type": "markdown",
   "metadata": {},
   "source": [
    "<a id='icd9_codes'></a>\n",
    "#### Getting ICD9 codes from patient admissions\n",
    "\n",
    "Before we can explore how to use comorbidity and condition clustering, we need a way to extract ICD9CM codes for a particular patient. Here's some code that goes through a person's admission records for a period. We're using a parse_dx_code function from a CCS module we wrote (more on that later) to make sure that the code represents a real ICD9 code. "
   ]
  },
  {
   "cell_type": "code",
   "execution_count": null,
   "metadata": {
    "collapsed": true
   },
   "outputs": [],
   "source": [
    "def get_person_icd_codes(person, period=365):       \n",
    "    '''\n",
    "    goes through conditions assigned to patient (and not to specific admission)\n",
    "    - uses ccs module to parse icd9\n",
    "    '''\n",
    "    period_start = person.index_admission.visit_start_date - relativedelta(days=period)\n",
    "    codes = [] \n",
    "    conditions = {}\n",
    "    for condition in person.conditions:\n",
    "        admission_id = str(condition.admission_id)\n",
    "        if admission_id in conditions:  \n",
    "            try:\n",
    "                conditions[admission_id].append(condition.icd9_code)\n",
    "            except AttributeError:\n",
    "                print('what')\n",
    "        else: \n",
    "            conditions[admission_id] = [condition.icd9_code]\n",
    "    codes = []\n",
    "    for visit in person.visit_occurances: \n",
    "        if visit.visit_start_date > period_start <= person.index_admission.visit_start_date: \n",
    "            for raw_code in conditions[str(visit.visit_occurance_id)]:\n",
    "                try:\n",
    "                    code = parse_dx_code(raw_code)\n",
    "                    codes.append(code)\n",
    "                except TypeError:\n",
    "                    print(\"Type Error\", raw_code)\n",
    "    return codes"
   ]
  },
  {
   "cell_type": "markdown",
   "metadata": {},
   "source": [
    "<a id='charlson'></a>\n",
    "####  Exploring severity of illness with the Charlson Comorbidity Index\n",
    "\n",
    "In particular, we might find useful the concept of **comorbidity**, which attempts to combine each individual (and usually serious) conditions into a single, predictive variable. There are a few different methods around the concept of easily calculating a comorbidity score, with the Charlson Comorbidity index being perhaps the best known. For our purposes, we’re going to use the updated Charlson comorbidity index ('enchanced ICD9-CM'), as outlined in [Quan 2005](http://czresearch.com/dropbox/Quan_MedCare_2005v43p1130.pdf)."
   ]
  },
  {
   "cell_type": "markdown",
   "metadata": {},
   "source": [
    "The Charlson Comorbidity method looks for different categories of diagnosis, as represented by ICD codes (in our case, ICD9 codes) in order to approximate an overall concept of comorbidity. Different conditions are given different weights based on the project impact on mortality, and age is factored in as well, giving a total CACI (Charlson Age Comorbidity Index) score. "
   ]
  },
  {
   "cell_type": "markdown",
   "metadata": {},
   "source": [
    "![An online Exlixhauser Index calculator](http://i.imgur.com/Sm7DYFx.png)"
   ]
  },
  {
   "cell_type": "markdown",
   "metadata": {},
   "source": [
    "In order to extract Charlson categories from our patient data, we gathered ICD code definitions from this paper <sup>2</sup>. Because the codes are presented as ranges with wildcards (i.e. ICD9 codes '334.x-335.x'), we had to build a way to properly parse the code definitions to return all the relevant codes ( [here's the code](https://github.com/mattlewissf/mimic/blob/5f5c2b494051639c777eea76fe670654832b7e55/mimic_package/data_model/definitions.py#L213) ). \n",
    "\n",
    "<br></br>\n",
    "\n",
    "\n",
    "This returns us a set of full ICD9 codes for each category, and since we’ve already extracted relevant ICD codes from each patient admission within a year of their index admission date, we're able to compare those codes with the Charlson categories. \n",
    "\n",
    "<br></br>\n",
    "\n",
    "Next we wanted to calculate the actual CACI score for each patient. This is pretty straightforward - the presence of a given conditon warrents either 1,2,3, or 6 points based on severity."
   ]
  },
  {
   "cell_type": "markdown",
   "metadata": {},
   "source": [
    "We used the Charlson scoring concept in two ways to generate features for our model: \n",
    "\n",
    "1. Determining 'membership' into a particular category (i.e. hypothyroidism) and giving a binary value\n",
    "\n",
    "* Calculating the appropriate CACI score for the patient, and returns that as a continuous feature\n",
    "\n",
    "<br></br>\n",
    "\n",
    "\n",
    "Here it is as a snippet of the feature dataframe:\n",
    "\n",
    "| ...| liver disease | hypothyroidism| metastatic cancer  | CACI Score |\n",
    "| --- | ------------- |:------------- | ----------------  | -----------| \n",
    "|     | 0             | 0             | 0                 |         1  | \n",
    "|     | 0             | 1             |  0                |         3  | \n",
    "|     | 1             | 0             |  1                |          8 | "
   ]
  },
  {
   "cell_type": "markdown",
   "metadata": {},
   "source": [
    "**Current features [v2]**\n",
    "\n",
    "| \tType\t|\tFeature\t| \tType\t|\tFeature\t| \n",
    "|\t---\t| \t---\t|\t\n",
    "|\tAdmission                   \t|\tperson_id\t|\tCharlson\t|\tAIDS/HIV\t|\n",
    "|\t\t|\tperson_index_age\t|\t\t|\tCerebrovascular disease\t|\t\n",
    "|\t\t|\tindex_admission_length\t|\t|\tRheumatologic disease\t|\t\n",
    "|\t\t|\tperson_gender\t|\t|\tRenal disease\t|\t\n",
    "|\t\t|\tadmission_rate\t|\t|\tHemiplegia or paraplegia\t|\t\n",
    "|\t\t|\tURGENT\t|\t|\tPeripheral vascular disease\t|\t\n",
    "|\t\t|\tELECTIVE\t|\t|\tMild liver disease\t|\t\n",
    "|\t\t|\tEMERGENCY\t|\t\t|\tAny malignancy, including leukemia and lymphom\n",
    "|\tEthnicity\t|\trace_other\t|\t\t|\tMetastatic solid tumor\t| \n",
    "|\t\t|\twhite\t|\t|\tChronic pulmonary disease\t| \n",
    "|\t\t|\tblack\t|\t\t|\tCongestive heart failure\t| \n",
    "|\t\t|\tlatino\t|\t|\tPeptic ulcer disease\t| \n",
    "|\t\t|\tasian\t|\t\t|\tMyocardial infarction\t| \n",
    "|\t\t|\tmulti_racial\t| | Dementia\t| \n",
    "|\t\t|\tpacific_islander\t|\t|\tModerate or severe liver disease\t| \n",
    "|\t\t|\tamerican_indian\t|\t|\tDiabetes with chronic complications\t| \n",
    "|\t\t|\tunknown\t|\t|\tDiabetes without chronic complications\t|\n",
    "|\tMarital Status\t|\tsingle\t| | \tCharlson score | \n",
    "|\t\t|\tcohab\t|\t\n",
    "|\t\t|\tseparated\t|\t\n",
    "\n",
    "\n",
    "\n"
   ]
  },
  {
   "cell_type": "markdown",
   "metadata": {},
   "source": [
    "<a id='ccs_modules'></a>\n",
    "#### Creating existing conditon buckets using CCS\n",
    "\n",
    "Another tool we can use to group diagnosis codes to better inform our model is represented by CCS, a concept developed by the [Healthcare Cost and Utilization Project (HCUP)](https://www.hcup-us.ahrq.gov/overview.jsp): \n",
    "\n",
    "```\n",
    "Clinical Classifications Software (CCS) is a tool for clustering patient diagnoses and procedures into a manageable number of clinically meaningful categories... this \"clinical grouper\" makes it easier to quickly understand patterns of diagnoses and procedures so that health plans, policy makers, and researchers can analyze costs, utilization, and outcomes associated with particular illnesses and procedures. \n",
    "```\n",
    "\n",
    "In short, CCS is a set of ICD9 groups that describe different condition groups. CCS has different ways of breaking the codes into differnet levels of granularity: \n",
    "\n",
    "Table 1. Examples of single-level CCS diagnosis categories \n",
    "\n",
    "    98. Essential hypertension\n",
    "    99. Hypertension with complications and secondary hypertension\n",
    "    100. Acute myocardial infarction\n",
    "    101. Coronary atherosclerosis and other heart disease \n",
    "    \n",
    "Table 3. Examples of multi-level CCS diagnosis categories \n",
    "\n",
    "    7. Diseases of the circulatory system\n",
    "      7.1. Hypertension\n",
    "        7.1.1. Essential hypertension [98]\n",
    "        7.1.2. Hypertension with complications and secondary hypertension [99]\n",
    "          7.1.2.1. Hypertensive heart and/or renal disease\n",
    "          7.1.2.2. Other hypertensive complications\n",
    "      7.2. Diseases of the heart\n"
   ]
  },
  {
   "cell_type": "markdown",
   "metadata": {},
   "source": [
    "** CCS - a Python module for retrieving CCS code groups **\n",
    "\n",
    "<br></br>\n",
    "\n",
    "HCUP provides some code implementations of their CCS concept, but I hadn't found anything that makes it easy for someone working in Python to check codes against the CCS concept. \n",
    "\n",
    "<br></br>\n",
    "\n",
    "So I built one: ***[CCS](https://github.com/mattlewissf/ccs)*** (it could use a flashier name). It basically allows you to determine a level (single, multi-level) concept and get back sets of codes for those definitions. It provides both ICD9 and ICD10 codes. "
   ]
  },
  {
   "cell_type": "markdown",
   "metadata": {},
   "source": [
    "#### Using CCS to extract existing condition features\n",
    "\n",
    "Using the CCS module, we can then check a patient's diagnosis codes against those in a particular CCS level, and return membership in particular groups. Here's a function we wrote that checks a users codes against a codeset of CCS codes, and returns those features and membership in them as features. Note that the feature generated don't have names (as there are multiple levels that you can use this function that return different numbers of features). \n"
   ]
  },
  {
   "cell_type": "code",
   "execution_count": null,
   "metadata": {
    "collapsed": true
   },
   "outputs": [],
   "source": [
    "def check_against_ccs(user_codes, codeset, code_type='dx', code_level='single'):\n",
    "    \n",
    "    mapper = {'dx': {'single': codeset.dx_single_level_codes, 'category': codeset.dx_category_level_codes, 'multi': codeset.dx_multilevel_codes}, \n",
    "              'px': {'single': codeset.px_single_level_codes, 'category': codeset.px_category_level_codes, 'multi': codeset.px_multilevel_codes}}\n",
    "    \n",
    "    f = mapper[code_type][code_level]\n",
    "    \n",
    "\n",
    "    ccs_features = {} \n",
    "    user_set = set(user_codes)\n",
    "    for k,v in f.iteritems():\n",
    "        overlap = user_set & v\n",
    "        if overlap: \n",
    "            ccs_features[k] = 1\n",
    "        else:\n",
    "            ccs_features[k] = 0\n",
    "    \n",
    "    return collections.OrderedDict(ccs_features)"
   ]
  },
  {
   "cell_type": "markdown",
   "metadata": {},
   "source": [
    "This gives us another set of features that represent clustered diagnoses. We'll represent these as binary features for each user.\n",
    "\n",
    "<br></br>\n",
    "\n",
    "**Current Features [v3]**\n",
    "\n",
    "| \tType\t|\tFeature\t| \tType\t| \tFeature\t| \n",
    "|\t---\t| \t---\t|\t----\t| \t---\t| \n",
    "|\tAdmission                   \t|\tperson_id\t|\tCharlson\t|\tMetastatic solid tumor\t| \n",
    "|\t\t|\tperson_index_age\t|\t\t|\tChronic pulmonary disease\t| \n",
    "|\t\t|\tindex_admission_length\t|\t\t|\tCongestive heart failure\t| \n",
    "|\t\t|\tperson_gender\t|\t\t|\tPeptic ulcer disease\t| \n",
    "|\t\t|\tadmission_rate\t|\t\t|\tMyocardial infarction\t| \n",
    "|\t\t|\tURGENT\t|\t\t|\tDementia\t| \n",
    "|\t\t|\tELECTIVE\t|\t\t|\tModerate or severe liver disease\t| \n",
    "|\t\t|\tEMERGENCY\t|\t\t|\tDiabetes with chronic complications\t| \n",
    "|\tEthnicity\t|\trace_other\t|\t\t|\tDiabetes without chronic complications\t| \n",
    "|\t\t|\twhite\t|\t\t|\tcharlson_score\t| \n",
    "|\t\t|\tblack\t|\tCCS Level 1\t|\t1\t| \n",
    "|\t\t|\tlatino\t|\t\t|\t10\t| \n",
    "|\t\t|\tasian\t|\t\t|\t11\t| \n",
    "|\t\t|\tmulti_racial\t|\t\t|\t12\t| \n",
    "|\t\t|\tmiddle_eastern\t|\t\t|\t13\t| \n",
    "|\t\t|\tpacific_islander\t|\t\t|\t14\t| \n",
    "|\t\t|\tamerican_indian\t|\t\t|\t15\t| \n",
    "|\t\t|\tunknown\t|\t\t|\t16\t| \n",
    "|\tMarital Status\t|\tsingle\t|\t\t|\t17\t| \n",
    "|\t\t|\tcohab\t|\t\t|\t18\t| \n",
    "|\t\t|\tseparated\t|\t\t|\t2\t| \n",
    "|\t\t|\tCerebrovascular disease\t|\t\t|\t3\t| \n",
    "|\tCharlson\t|\tAIDS/HIV\t|\t\t|\t4\t| \n",
    "|\t\t|\tRheumatologic disease\t|\t\t|\t5\t| \n",
    "|\t\t|\tRenal disease\t|\t\t|\t6\t| \n",
    "|\t\t|\tHemiplegia or paraplegia\t|\t\t|\t7\t| \n",
    "|\t\t|\tPeripheral vascular disease\t|\t\t|\t8\t| \n",
    "|\t\t|\tMild liver disease\t|\t\t|\t9\t| \n",
    "|\t\t|\tAny malignancy, including leukemia and lymphoma\t|\t\t|\t\t| \n",
    "\n"
   ]
  },
  {
   "cell_type": "markdown",
   "metadata": {},
   "source": [
    "#####  **Next  |   [Pandas and Extraction]()**"
   ]
  }
 ],
 "metadata": {
  "kernelspec": {
   "display_name": "Python 2",
   "language": "python",
   "name": "python2"
  },
  "language_info": {
   "codemirror_mode": {
    "name": "ipython",
    "version": 2
   },
   "file_extension": ".py",
   "mimetype": "text/x-python",
   "name": "python",
   "nbconvert_exporter": "python",
   "pygments_lexer": "ipython2",
   "version": "2.7.12"
  }
 },
 "nbformat": 4,
 "nbformat_minor": 0
}
